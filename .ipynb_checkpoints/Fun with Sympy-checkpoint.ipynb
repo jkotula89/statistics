{
 "cells": [
  {
   "cell_type": "code",
   "execution_count": 126,
   "metadata": {},
   "outputs": [],
   "source": [
    "%matplotlib inline\n",
    "import matplotlib.pyplot as plt\n",
    "import seaborn as sb\n",
    "\n",
    "import numpy as np\n",
    "from scipy import stats"
   ]
  },
  {
   "cell_type": "markdown",
   "metadata": {},
   "source": [
    "# Sympy"
   ]
  },
  {
   "cell_type": "code",
   "execution_count": 127,
   "metadata": {},
   "outputs": [],
   "source": [
    "import sympy\n",
    "from sympy import Sum, oo, Product, simplify, exp, ln\n",
    "from sympy.stats import Normal, Exponential, density, E, cdf, variance"
   ]
  },
  {
   "cell_type": "code",
   "execution_count": 192,
   "metadata": {},
   "outputs": [],
   "source": [
    "mu, a, b, c, d = sympy.symbols('mu a b, c, d', real=True)\n",
    "x = sympy.Symbol('x', real=True)\n",
    "sigma, l = sympy.symbols('sigma lambda', positive=True)\n",
    "N = Normal('N', mu, sigma)"
   ]
  },
  {
   "cell_type": "code",
   "execution_count": 131,
   "metadata": {},
   "outputs": [
    {
     "data": {
      "text/latex": [
       "$\\displaystyle \\frac{\\sqrt{2} e^{- \\frac{\\left(- \\mu + x\\right)^{2}}{2 \\sigma^{2}}}}{2 \\sqrt{\\pi} \\sigma}$"
      ],
      "text/plain": [
       "sqrt(2)*exp(-(-mu + x)**2/(2*sigma**2))/(2*sqrt(pi)*sigma)"
      ]
     },
     "execution_count": 131,
     "metadata": {},
     "output_type": "execute_result"
    }
   ],
   "source": [
    "n = density(N)\n",
    "n(x)"
   ]
  },
  {
   "cell_type": "markdown",
   "metadata": {},
   "source": [
    "# Log Likelihood - Normal"
   ]
  },
  {
   "cell_type": "code",
   "execution_count": 155,
   "metadata": {},
   "outputs": [
    {
     "data": {
      "text/latex": [
       "$\\displaystyle - 3 \\log{\\left(\\sigma \\right)} - \\frac{3 \\log{\\left(\\pi \\right)}}{2} - \\frac{3 \\log{\\left(2 \\right)}}{2} - \\frac{2 \\left(a - \\mu\\right)^{2} + \\left(\\mu - x\\right)^{2}}{2 \\sigma^{2}}$"
      ],
      "text/plain": [
       "-3*log(sigma) - 3*log(pi)/2 - 3*log(2)/2 - (2*(a - mu)**2 + (mu - x)**2)/(2*sigma**2)"
      ]
     },
     "execution_count": 155,
     "metadata": {},
     "output_type": "execute_result"
    }
   ],
   "source": [
    "simplify(ln(density(N)(x)*density(N)(a)*density(N)(a)))"
   ]
  },
  {
   "cell_type": "code",
   "execution_count": 125,
   "metadata": {},
   "outputs": [
    {
     "data": {
      "text/latex": [
       "$\\displaystyle \\sum_{x=a}^{b} \\left(- \\log{\\left(\\sigma \\right)} - \\frac{\\log{\\left(\\pi \\right)}}{2} - \\frac{\\log{\\left(2 \\right)}}{2} - \\frac{\\left(- \\mu + x\\right)^{2}}{2 \\sigma^{2}}\\right)$"
      ],
      "text/plain": [
       "Sum(-log(sigma) - log(pi)/2 - log(2)/2 - (-mu + x)**2/(2*sigma**2), (x, a, b))"
      ]
     },
     "execution_count": 125,
     "metadata": {},
     "output_type": "execute_result"
    }
   ],
   "source": [
    "simplify(ln(Product(n(x), (x, a, b))))"
   ]
  },
  {
   "cell_type": "markdown",
   "metadata": {},
   "source": [
    "# Log Likelihood - Exponential"
   ]
  },
  {
   "cell_type": "code",
   "execution_count": 170,
   "metadata": {},
   "outputs": [
    {
     "data": {
      "text/latex": [
       "$\\displaystyle \\lambda e^{- \\lambda x}$"
      ],
      "text/plain": [
       "lambda*exp(-lambda*x)"
      ]
     },
     "execution_count": 170,
     "metadata": {},
     "output_type": "execute_result"
    }
   ],
   "source": [
    "decay = density(Exponential('E', l))\n",
    "decay(x)"
   ]
  },
  {
   "cell_type": "code",
   "execution_count": 171,
   "metadata": {},
   "outputs": [
    {
     "data": {
      "text/latex": [
       "$\\displaystyle - \\lambda x + \\log{\\left(\\lambda \\right)}$"
      ],
      "text/plain": [
       "-lambda*x + log(lambda)"
      ]
     },
     "execution_count": 171,
     "metadata": {},
     "output_type": "execute_result"
    }
   ],
   "source": [
    "simplify(ln(decay(x)))"
   ]
  },
  {
   "cell_type": "code",
   "execution_count": 172,
   "metadata": {},
   "outputs": [
    {
     "data": {
      "text/latex": [
       "$\\displaystyle - \\lambda \\left(- \\frac{a^{2}}{2} + \\frac{a}{2} + \\frac{b^{2}}{2} + \\frac{b}{2}\\right) + \\left(- a + b + 1\\right) \\log{\\left(\\lambda \\right)}$"
      ],
      "text/plain": [
       "-lambda*(-a**2/2 + a/2 + b**2/2 + b/2) + (-a + b + 1)*log(lambda)"
      ]
     },
     "execution_count": 172,
     "metadata": {},
     "output_type": "execute_result"
    }
   ],
   "source": [
    "simplify(ln(Product(decay(x), (x, a,b)))).doit()"
   ]
  },
  {
   "cell_type": "markdown",
   "metadata": {},
   "source": [
    "# Log Likelihood Beta"
   ]
  },
  {
   "cell_type": "code",
   "execution_count": 191,
   "metadata": {},
   "outputs": [],
   "source": [
    "from sympy.stats import Beta, Gamma"
   ]
  },
  {
   "cell_type": "code",
   "execution_count": 190,
   "metadata": {},
   "outputs": [
    {
     "data": {
      "text/latex": [
       "$\\displaystyle \\frac{x^{a - 1} \\left(1 - x\\right)^{b - 1}}{\\operatorname{B}\\left(a, b\\right)}$"
      ],
      "text/plain": [
       "x**(a - 1)*(1 - x)**(b - 1)/beta(a, b)"
      ]
     },
     "execution_count": 190,
     "metadata": {},
     "output_type": "execute_result"
    }
   ],
   "source": [
    "betad = density(Beta('BetaD', a, b))\n",
    "betad(x)"
   ]
  },
  {
   "cell_type": "code",
   "execution_count": 195,
   "metadata": {},
   "outputs": [
    {
     "data": {
      "text/latex": [
       "$\\displaystyle \\log{\\left(\\frac{c^{a - 1} d^{a - 1} x^{a - 1} \\left(1 - c\\right)^{b - 1} \\left(1 - d\\right)^{b - 1} \\left(1 - x\\right)^{b - 1}}{\\operatorname{B}^{3}\\left(a, b\\right)} \\right)}$"
      ],
      "text/plain": [
       "log(c**(a - 1)*d**(a - 1)*x**(a - 1)*(1 - c)**(b - 1)*(1 - d)**(b - 1)*(1 - x)**(b - 1)/beta(a, b)**3)"
      ]
     },
     "execution_count": 195,
     "metadata": {},
     "output_type": "execute_result"
    }
   ],
   "source": [
    "# limit variables for further simplification\n",
    "\n",
    "simplify(ln(betad(x)*betad(c)*betad(d)))"
   ]
  },
  {
   "cell_type": "code",
   "execution_count": 198,
   "metadata": {},
   "outputs": [
    {
     "data": {
      "text/latex": [
       "$\\displaystyle \\log{\\left(\\prod_{x=c}^{d} \\frac{x^{a - 1} \\left(1 - x\\right)^{b - 1}}{\\operatorname{B}\\left(a, b\\right)} \\right)}$"
      ],
      "text/plain": [
       "log(Product(x**(a - 1)*(1 - x)**(b - 1)/beta(a, b), (x, c, d)))"
      ]
     },
     "execution_count": 198,
     "metadata": {},
     "output_type": "execute_result"
    }
   ],
   "source": [
    "simplify(ln(Product(betad(x), (x, c, d))))"
   ]
  },
  {
   "cell_type": "code",
   "execution_count": null,
   "metadata": {},
   "outputs": [],
   "source": []
  },
  {
   "cell_type": "markdown",
   "metadata": {},
   "source": [
    "# Evaluate a numerical expression?"
   ]
  },
  {
   "cell_type": "code",
   "execution_count": 173,
   "metadata": {},
   "outputs": [],
   "source": [
    "# sympy.evalf\n",
    "# sympy.doi"
   ]
  },
  {
   "cell_type": "code",
   "execution_count": null,
   "metadata": {},
   "outputs": [],
   "source": []
  }
 ],
 "metadata": {
  "kernelspec": {
   "display_name": "Python 3",
   "language": "python",
   "name": "python3"
  },
  "language_info": {
   "codemirror_mode": {
    "name": "ipython",
    "version": 3
   },
   "file_extension": ".py",
   "mimetype": "text/x-python",
   "name": "python",
   "nbconvert_exporter": "python",
   "pygments_lexer": "ipython3",
   "version": "3.7.4"
  }
 },
 "nbformat": 4,
 "nbformat_minor": 2
}
